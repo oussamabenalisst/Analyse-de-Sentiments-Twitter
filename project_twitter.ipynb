{
 "cells": [
  {
   "cell_type": "markdown",
   "id": "7f65cec6",
   "metadata": {},
   "source": [
    "# Analyse de Sentiments Twitter\n",
    "\n",
    "Ce programe implémente une analyse de sentiments sur des tweets en utilisant pandas et des listes de mots positifs/négatifs.\n",
    "\n",
    "+ Mohamed Islem Ben Farhat\n",
    "\n",
    "+ Oussama Benali"
   ]
  },
  {
   "cell_type": "code",
   "execution_count": 56,
   "id": "b8a654d1",
   "metadata": {},
   "outputs": [],
   "source": [
    "# 1. Import des bibliothèques nécessaires\n",
    "import pandas as pd\n",
    "import string"
   ]
  },
  {
   "cell_type": "code",
   "execution_count": 57,
   "id": "7fb3948f",
   "metadata": {},
   "outputs": [],
   "source": [
    "def read_words(filename):\n",
    "    \"\"\"Lit un fichier de mots et retourne une liste\"\"\"\n",
    "    with open(filename, 'r', encoding='utf-8') as file:\n",
    "        return [line.strip() for line in file if not line.startswith(';') and line.strip()]\n",
    "# Charger les mots positifs et négatifs\n",
    "positive_words = read_words('positive_words.txt')\n",
    "negative_words = read_words('negative_words.txt')\n",
    "# Charger les tweets\n",
    "tweets_df = pd.read_csv('project_twitter_data.csv')"
   ]
  },
  {
   "cell_type": "code",
   "execution_count": 58,
   "id": "5e607be9",
   "metadata": {},
   "outputs": [],
   "source": [
    "# 3. Prétraitement des tweets\n",
    "def strip_punctuation(word):\n",
    "    \"\"\"Supprime la ponctuation d'un mot\"\"\"\n",
    "    return ''.join(char for char in word if char not in string.punctuation)\n"
   ]
  },
  {
   "cell_type": "code",
   "execution_count": 59,
   "id": "bd99d909",
   "metadata": {},
   "outputs": [],
   "source": [
    "def CountWords(words,liste):\n",
    "    return sum(1 for word in words if word in liste)"
   ]
  },
  {
   "cell_type": "code",
   "execution_count": 60,
   "id": "d828ac14",
   "metadata": {},
   "outputs": [],
   "source": [
    "# 4 . Fonction pour compter les mots positifs \n",
    "def get_pos(text):\n",
    "    \"\"\"Compte le nombre de mots positifs dans le texte\"\"\"\n",
    "    if not isinstance(text, str):\n",
    "        return 0\n",
    "    words = text.lower().split()\n",
    "    words = [strip_punctuation(word) for word in words]\n",
    "    return CountWords(words, positive_words)"
   ]
  },
  {
   "cell_type": "code",
   "execution_count": 61,
   "id": "81e547a8",
   "metadata": {},
   "outputs": [],
   "source": [
    "# 4 . Fonction pour compter les mots negatifs\n",
    "def get_neg(text):\n",
    "    \"\"\"Compte le nombre de mots négatifs dans le texte\"\"\"\n",
    "    if not isinstance(text, str):\n",
    "        return 0\n",
    "    words = text.lower().split()\n",
    "    words = [strip_punctuation(word) for word in words]\n",
    "    return CountWords(words,negative_words)"
   ]
  },
  {
   "cell_type": "code",
   "execution_count": 62,
   "id": "38f9864f",
   "metadata": {},
   "outputs": [],
   "source": [
    "# 2. Analyse des sentiments\n",
    "def analyze_sentiment(tweet):\n",
    "    \"\"\"Analyse le sentiment d'un tweet\"\"\"\n",
    "    if not isinstance(tweet, str):\n",
    "        return pd.Series({'positive_score': 0, 'negative_score': 0, 'net_score': 0})\n",
    "        \n",
    "    positive_score = get_pos(tweet)\n",
    "    negative_score = get_neg(tweet)\n",
    "    \n",
    "    return pd.Series({\n",
    "        'positive_score': positive_score,\n",
    "        'negative_score': negative_score,\n",
    "        'net_score': positive_score - negative_score\n",
    "    })\n",
    "\n",
    "# Calculer les scores\n",
    "sentiment_scores = tweets_df['tweet_text'].apply(analyze_sentiment)\n",
    "result_df = pd.concat([\n",
    "    tweets_df[['retweet_count', 'reply_count']], \n",
    "    sentiment_scores\n",
    "], axis=1)\n",
    "result_df.to_csv('result_data.csv', index=False)"
   ]
  }
 ],
 "metadata": {
  "kernelspec": {
   "display_name": "base",
   "language": "python",
   "name": "python3"
  },
  "language_info": {
   "codemirror_mode": {
    "name": "ipython",
    "version": 3
   },
   "file_extension": ".py",
   "mimetype": "text/x-python",
   "name": "python",
   "nbconvert_exporter": "python",
   "pygments_lexer": "ipython3",
   "version": "3.12.4"
  }
 },
 "nbformat": 4,
 "nbformat_minor": 5
}
